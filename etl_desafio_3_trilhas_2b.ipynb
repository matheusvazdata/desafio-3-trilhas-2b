{
  "nbformat": 4,
  "nbformat_minor": 0,
  "metadata": {
    "colab": {
      "provenance": [],
      "authorship_tag": "ABX9TyOMMtYR6PM306ABYX7RbfDH",
      "include_colab_link": true
    },
    "kernelspec": {
      "name": "python3",
      "display_name": "Python 3"
    },
    "language_info": {
      "name": "python"
    }
  },
  "cells": [
    {
      "cell_type": "markdown",
      "metadata": {
        "id": "view-in-github",
        "colab_type": "text"
      },
      "source": [
        "<a href=\"https://colab.research.google.com/github/matheusvazdata/desafio-3-trilhas-2b/blob/main/etl_desafio_3_trilhas_2b.ipynb\" target=\"_parent\"><img src=\"https://colab.research.google.com/assets/colab-badge.svg\" alt=\"Open In Colab\"/></a>"
      ]
    },
    {
      "cell_type": "markdown",
      "source": [
        "## ✅ Objetivo\n",
        "Transformar uma simples planilha em um pipeline bem estruturado, limpo e confiável até a visualização no Looker Studio, com potencial para escalar futuramente."
      ],
      "metadata": {
        "id": "JsRQs6ngLuFr"
      }
    },
    {
      "cell_type": "markdown",
      "source": [
        "## 🧱 Arquitetura Moderna Recomendada (Camadas e Ferramentas)"
      ],
      "metadata": {
        "id": "XLas7wstLzMA"
      }
    },
    {
      "cell_type": "markdown",
      "source": [
        "```\n",
        "[Google Sheets] (raw)\n",
        "      ↓\n",
        "[Google Colab ou Cloud Functions com Python]\n",
        "      ↓\n",
        "[Cloud Storage ou BigQuery] ← (zona trusted / staging)\n",
        "      ↓\n",
        "[Looker Studio] (visualização)\n",
        "```"
      ],
      "metadata": {
        "id": "5RY_-vrnL1gI"
      }
    },
    {
      "cell_type": "markdown",
      "source": [
        "### 🔄 ETL no Colab (boas práticas)\n",
        "1. Extract – Leitura direta do Google Sheets\n",
        "Use a API do Google Sheets ou o gspread + oauth2client."
      ],
      "metadata": {
        "id": "REP1n8llL-2v"
      }
    },
    {
      "cell_type": "code",
      "execution_count": 53,
      "metadata": {
        "id": "Ap2Knv2XLY2W"
      },
      "outputs": [],
      "source": [
        "# Importação das bibliotecas necessárias\n",
        "import gspread\n",
        "from oauth2client.service_account import ServiceAccountCredentials\n",
        "import pandas as pd\n",
        "import numpy as np"
      ]
    },
    {
      "cell_type": "code",
      "source": [
        "# Autenticação\n",
        "scope = ['https://spreadsheets.google.com/feeds','https://www.googleapis.com/auth/drive']\n",
        "creds = ServiceAccountCredentials.from_json_keyfile_name('/content/minha-chave.json', scope)\n",
        "client = gspread.authorize(creds)\n",
        "\n",
        "# Carregar a planilha\n",
        "sheet = client.open_by_url('https://docs.google.com/spreadsheets/d/17hAlR-OjU2mJ6mlLhIPPRWVD02Mn_js21Zx4HuYo2b8')\n",
        "worksheet = sheet.sheet1\n",
        "dados = pd.DataFrame(worksheet.get_all_records())"
      ],
      "metadata": {
        "id": "eAO94l9QLqbi"
      },
      "execution_count": 54,
      "outputs": []
    },
    {
      "cell_type": "markdown",
      "source": [
        "2. Transform – Limpeza e enriquecimento\n",
        "- 2.1. 🧪 Testes automáticos"
      ],
      "metadata": {
        "id": "gCs0eCUTTKl8"
      }
    },
    {
      "cell_type": "code",
      "source": [
        "def validar_dados(dados):\n",
        "    assert not dados.isnull().all().any(), '❌ Colunas totalmente nulas.'\n",
        "\n",
        "    colunas_constantes = [col for col in dados.columns if dados[col].nunique(dropna=True) == 1]\n",
        "    assert len(colunas_constantes) == 0, f'⚠️ Colunas constantes: {colunas_constantes}'\n",
        "\n",
        "    assert not dados.duplicated().any(), '❌ Linhas duplicadas.'\n",
        "\n",
        "    colunas_esperadas = ['idade', 'trilha', 'gênero', 'município']\n",
        "    for col in colunas_esperadas:\n",
        "        assert col in dados.columns, f'❌ Coluna ausente: {col}'\n",
        "\n",
        "    assert dados['trilha'].notnull().all(), '❌ \"trilha\" com valores nulos.'\n",
        "    assert dados['idade'].notnull().all(), '❌ \"idade\" com valores nulos.'\n",
        "\n",
        "    assert pd.api.types.is_numeric_dtype(dados['idade']), '❌ \"idade\" não é numérica.'\n",
        "\n",
        "    print('✅ Validação de dados concluída com sucesso!')\n",
        "\n",
        "# Chamada:\n",
        "validar_dados(dados)"
      ],
      "metadata": {
        "colab": {
          "base_uri": "https://localhost:8080/",
          "height": 297
        },
        "id": "7mJvH2deQIK1",
        "outputId": "609c69c2-9ccc-4d91-fafc-14f7bb66f687"
      },
      "execution_count": 55,
      "outputs": [
        {
          "output_type": "error",
          "ename": "AssertionError",
          "evalue": "⚠️ Colunas constantes: ['Nome Completo']",
          "traceback": [
            "\u001b[0;31m---------------------------------------------------------------------------\u001b[0m",
            "\u001b[0;31mAssertionError\u001b[0m                            Traceback (most recent call last)",
            "\u001b[0;32m<ipython-input-55-216bccbc6ca5>\u001b[0m in \u001b[0;36m<cell line: 0>\u001b[0;34m()\u001b[0m\n\u001b[1;32m     19\u001b[0m \u001b[0;34m\u001b[0m\u001b[0m\n\u001b[1;32m     20\u001b[0m \u001b[0;31m# Chamada:\u001b[0m\u001b[0;34m\u001b[0m\u001b[0;34m\u001b[0m\u001b[0m\n\u001b[0;32m---> 21\u001b[0;31m \u001b[0mvalidar_dados\u001b[0m\u001b[0;34m(\u001b[0m\u001b[0mdados\u001b[0m\u001b[0;34m)\u001b[0m\u001b[0;34m\u001b[0m\u001b[0;34m\u001b[0m\u001b[0m\n\u001b[0m",
            "\u001b[0;32m<ipython-input-55-216bccbc6ca5>\u001b[0m in \u001b[0;36mvalidar_dados\u001b[0;34m(dados)\u001b[0m\n\u001b[1;32m      3\u001b[0m \u001b[0;34m\u001b[0m\u001b[0m\n\u001b[1;32m      4\u001b[0m     \u001b[0mcolunas_constantes\u001b[0m \u001b[0;34m=\u001b[0m \u001b[0;34m[\u001b[0m\u001b[0mcol\u001b[0m \u001b[0;32mfor\u001b[0m \u001b[0mcol\u001b[0m \u001b[0;32min\u001b[0m \u001b[0mdados\u001b[0m\u001b[0;34m.\u001b[0m\u001b[0mcolumns\u001b[0m \u001b[0;32mif\u001b[0m \u001b[0mdados\u001b[0m\u001b[0;34m[\u001b[0m\u001b[0mcol\u001b[0m\u001b[0;34m]\u001b[0m\u001b[0;34m.\u001b[0m\u001b[0mnunique\u001b[0m\u001b[0;34m(\u001b[0m\u001b[0mdropna\u001b[0m\u001b[0;34m=\u001b[0m\u001b[0;32mTrue\u001b[0m\u001b[0;34m)\u001b[0m \u001b[0;34m==\u001b[0m \u001b[0;36m1\u001b[0m\u001b[0;34m]\u001b[0m\u001b[0;34m\u001b[0m\u001b[0;34m\u001b[0m\u001b[0m\n\u001b[0;32m----> 5\u001b[0;31m     \u001b[0;32massert\u001b[0m \u001b[0mlen\u001b[0m\u001b[0;34m(\u001b[0m\u001b[0mcolunas_constantes\u001b[0m\u001b[0;34m)\u001b[0m \u001b[0;34m==\u001b[0m \u001b[0;36m0\u001b[0m\u001b[0;34m,\u001b[0m \u001b[0;34mf'⚠️ Colunas constantes: {colunas_constantes}'\u001b[0m\u001b[0;34m\u001b[0m\u001b[0;34m\u001b[0m\u001b[0m\n\u001b[0m\u001b[1;32m      6\u001b[0m \u001b[0;34m\u001b[0m\u001b[0m\n\u001b[1;32m      7\u001b[0m     \u001b[0;32massert\u001b[0m \u001b[0;32mnot\u001b[0m \u001b[0mdados\u001b[0m\u001b[0;34m.\u001b[0m\u001b[0mduplicated\u001b[0m\u001b[0;34m(\u001b[0m\u001b[0;34m)\u001b[0m\u001b[0;34m.\u001b[0m\u001b[0many\u001b[0m\u001b[0;34m(\u001b[0m\u001b[0;34m)\u001b[0m\u001b[0;34m,\u001b[0m \u001b[0;34m'❌ Linhas duplicadas.'\u001b[0m\u001b[0;34m\u001b[0m\u001b[0;34m\u001b[0m\u001b[0m\n",
            "\u001b[0;31mAssertionError\u001b[0m: ⚠️ Colunas constantes: ['Nome Completo']"
          ]
        }
      ]
    },
    {
      "cell_type": "code",
      "source": [
        "!pip install unidecode"
      ],
      "metadata": {
        "colab": {
          "base_uri": "https://localhost:8080/"
        },
        "id": "kb0BUvOHAXju",
        "outputId": "150122bd-82dc-4d64-c6ca-addab537d50d"
      },
      "execution_count": 56,
      "outputs": [
        {
          "output_type": "stream",
          "name": "stdout",
          "text": [
            "Requirement already satisfied: unidecode in /usr/local/lib/python3.11/dist-packages (1.3.8)\n"
          ]
        }
      ]
    },
    {
      "cell_type": "code",
      "source": [
        "# 🔹 Renomear colunas para snake_case com limpeza extra\n",
        "from unidecode import unidecode\n",
        "\n",
        "# 🔹 Renomear colunas com limpeza completa\n",
        "dados.columns = [\n",
        "    unidecode(col)                      # remove acentos\n",
        "    .strip()                            # remove espaços nas extremidades\n",
        "    .lower()                            # caixa baixa\n",
        "    .replace(' ', '_')                 # espaços → _\n",
        "    .replace('/', '_')                 # barras → _\n",
        "    .replace('-', '_')                 # hífens → _\n",
        "    .replace(':', '')                  # remove dois-pontos\n",
        "    .replace('__', '_')                # evita underscore duplo\n",
        "    .strip('_')                        # remove underscores nas pontas\n",
        "    for col in dados.columns\n",
        "]\n",
        "\n",
        "# 🔹 Remover colunas constantes antes de continuar\n",
        "colunas_constantes = [col for col in dados.columns if dados[col].nunique(dropna=True) == 1]\n",
        "dados = dados.drop(columns=colunas_constantes)\n",
        "\n",
        "# 🔹 Criar faixa etária\n",
        "dados['faixa_etaria'] = pd.cut(dados['idade'], bins=[17, 20, 25, 30, 40], labels=['18-20', '21-25', '26-30', '31-40'])\n",
        "\n",
        "# 🔹 Criar colunas simplificadas\n",
        "dados['trilha_simplificada'] = np.where(\n",
        "    dados['trilha'].str.contains('Programação', na=False),\n",
        "    dados['trilha'].str.extract(r'\\(([^)]+)\\)', expand=False).fillna('Jogos'),\n",
        "    dados['trilha']\n",
        ")\n",
        "dados['escola_publica'] = dados['escola_de_origem'].str.lower().eq('pública')\n",
        "\n",
        "# 🔹 Corrigir campos booleanos\n",
        "dados['tem_acesso'] = dados['acesso_a_net_e_ao_pc'].map({'Sim': True, 'Não': False})\n",
        "\n",
        "# 🔹 Normalizar gênero\n",
        "dados['genero'] = dados['genero'].fillna('').str.strip().str.title()\n",
        "\n",
        "# 🔹 Substituir qualquer valor que não seja \"Masculino\" ou \"Feminino\"\n",
        "dados['genero'] = dados['genero'].apply(lambda x: x if x in ['Masculino', 'Feminino'] else 'Não informado')"
      ],
      "metadata": {
        "id": "YCnNg8H7QryE"
      },
      "execution_count": 57,
      "outputs": []
    },
    {
      "cell_type": "code",
      "source": [
        "dados.head()"
      ],
      "metadata": {
        "colab": {
          "base_uri": "https://localhost:8080/",
          "height": 330
        },
        "id": "Q-yFa4rDTgzb",
        "outputId": "de471bc2-c2bb-4cb0-aec7-4ccce69dcd49"
      },
      "execution_count": 58,
      "outputs": [
        {
          "output_type": "execute_result",
          "data": {
            "text/plain": [
              "  carimbo_de_data_hora  idade municipio                   trilha     genero  \\\n",
              "0  2023/12/15 13:18:17     24  São Luís  Programação (Front-end)   Feminino   \n",
              "1  2023/12/15 14:11:49     21  São Luís   Programação (Back-end)  Masculino   \n",
              "2  2023/12/15 14:16:07     24  São Luís  Programação (Front-end)  Masculino   \n",
              "3  2023/12/15 14:24:20     22  São Luís   Programação (Back-end)  Masculino   \n",
              "4  2023/12/15 14:35:51     23  São Luís     Design e Experiência   Feminino   \n",
              "\n",
              "                              ocupacao_atual_emprego cor_ou_raca  \\\n",
              "0                                    Nunca Trabalhei       Parda   \n",
              "1                                       Desempregado       Parda   \n",
              "2                                       Desempregado       Parda   \n",
              "3  Não estou empregado, mas focando apenas nos es...       Parda   \n",
              "4                                 A busca de emprego       Parda   \n",
              "\n",
              "                 grau_de_escolaridade participou_do_trilhas_anterior  \\\n",
              "0  Graduação Incompleta (ou cursando)                            Não   \n",
              "1  Graduação Incompleta (ou cursando)                            Não   \n",
              "2  Graduação Incompleta (ou cursando)                            Não   \n",
              "3  Graduação Incompleta (ou cursando)                            Não   \n",
              "4  Graduação Incompleta (ou cursando)                            Não   \n",
              "\n",
              "  acesso_a_net_e_ao_pc    faixa_de_renda_familiar  \\\n",
              "0                  Sim              Até  R$ 1.302   \n",
              "1                  Sim              Até  R$ 1.302   \n",
              "2                  Sim  Entre R$ 1.303 e R$ 2.605   \n",
              "3                  Sim  Entre R$ 1.303 e R$ 2.605   \n",
              "4                  Sim              Até  R$ 1.302   \n",
              "\n",
              "            motivo_da_participacao escola_de_origem faixa_etaria  \\\n",
              "0  Ter formação em uma das Trilhas          Pública        21-25   \n",
              "1             Conseguir um emprego          Pública        21-25   \n",
              "2              Mudança de carreira          Pública        21-25   \n",
              "3  Ter formação em uma das Trilhas          Pública        21-25   \n",
              "4             Conseguir um emprego          Pública        21-25   \n",
              "\n",
              "    trilha_simplificada  escola_publica  tem_acesso  \n",
              "0             Front-end            True        True  \n",
              "1              Back-end            True        True  \n",
              "2             Front-end            True        True  \n",
              "3              Back-end            True        True  \n",
              "4  Design e Experiência            True        True  "
            ],
            "text/html": [
              "\n",
              "  <div id=\"df-2e6df714-f04d-43e5-a94e-7985a9ed3617\" class=\"colab-df-container\">\n",
              "    <div>\n",
              "<style scoped>\n",
              "    .dataframe tbody tr th:only-of-type {\n",
              "        vertical-align: middle;\n",
              "    }\n",
              "\n",
              "    .dataframe tbody tr th {\n",
              "        vertical-align: top;\n",
              "    }\n",
              "\n",
              "    .dataframe thead th {\n",
              "        text-align: right;\n",
              "    }\n",
              "</style>\n",
              "<table border=\"1\" class=\"dataframe\">\n",
              "  <thead>\n",
              "    <tr style=\"text-align: right;\">\n",
              "      <th></th>\n",
              "      <th>carimbo_de_data_hora</th>\n",
              "      <th>idade</th>\n",
              "      <th>municipio</th>\n",
              "      <th>trilha</th>\n",
              "      <th>genero</th>\n",
              "      <th>ocupacao_atual_emprego</th>\n",
              "      <th>cor_ou_raca</th>\n",
              "      <th>grau_de_escolaridade</th>\n",
              "      <th>participou_do_trilhas_anterior</th>\n",
              "      <th>acesso_a_net_e_ao_pc</th>\n",
              "      <th>faixa_de_renda_familiar</th>\n",
              "      <th>motivo_da_participacao</th>\n",
              "      <th>escola_de_origem</th>\n",
              "      <th>faixa_etaria</th>\n",
              "      <th>trilha_simplificada</th>\n",
              "      <th>escola_publica</th>\n",
              "      <th>tem_acesso</th>\n",
              "    </tr>\n",
              "  </thead>\n",
              "  <tbody>\n",
              "    <tr>\n",
              "      <th>0</th>\n",
              "      <td>2023/12/15 13:18:17</td>\n",
              "      <td>24</td>\n",
              "      <td>São Luís</td>\n",
              "      <td>Programação (Front-end)</td>\n",
              "      <td>Feminino</td>\n",
              "      <td>Nunca Trabalhei</td>\n",
              "      <td>Parda</td>\n",
              "      <td>Graduação Incompleta (ou cursando)</td>\n",
              "      <td>Não</td>\n",
              "      <td>Sim</td>\n",
              "      <td>Até  R$ 1.302</td>\n",
              "      <td>Ter formação em uma das Trilhas</td>\n",
              "      <td>Pública</td>\n",
              "      <td>21-25</td>\n",
              "      <td>Front-end</td>\n",
              "      <td>True</td>\n",
              "      <td>True</td>\n",
              "    </tr>\n",
              "    <tr>\n",
              "      <th>1</th>\n",
              "      <td>2023/12/15 14:11:49</td>\n",
              "      <td>21</td>\n",
              "      <td>São Luís</td>\n",
              "      <td>Programação (Back-end)</td>\n",
              "      <td>Masculino</td>\n",
              "      <td>Desempregado</td>\n",
              "      <td>Parda</td>\n",
              "      <td>Graduação Incompleta (ou cursando)</td>\n",
              "      <td>Não</td>\n",
              "      <td>Sim</td>\n",
              "      <td>Até  R$ 1.302</td>\n",
              "      <td>Conseguir um emprego</td>\n",
              "      <td>Pública</td>\n",
              "      <td>21-25</td>\n",
              "      <td>Back-end</td>\n",
              "      <td>True</td>\n",
              "      <td>True</td>\n",
              "    </tr>\n",
              "    <tr>\n",
              "      <th>2</th>\n",
              "      <td>2023/12/15 14:16:07</td>\n",
              "      <td>24</td>\n",
              "      <td>São Luís</td>\n",
              "      <td>Programação (Front-end)</td>\n",
              "      <td>Masculino</td>\n",
              "      <td>Desempregado</td>\n",
              "      <td>Parda</td>\n",
              "      <td>Graduação Incompleta (ou cursando)</td>\n",
              "      <td>Não</td>\n",
              "      <td>Sim</td>\n",
              "      <td>Entre R$ 1.303 e R$ 2.605</td>\n",
              "      <td>Mudança de carreira</td>\n",
              "      <td>Pública</td>\n",
              "      <td>21-25</td>\n",
              "      <td>Front-end</td>\n",
              "      <td>True</td>\n",
              "      <td>True</td>\n",
              "    </tr>\n",
              "    <tr>\n",
              "      <th>3</th>\n",
              "      <td>2023/12/15 14:24:20</td>\n",
              "      <td>22</td>\n",
              "      <td>São Luís</td>\n",
              "      <td>Programação (Back-end)</td>\n",
              "      <td>Masculino</td>\n",
              "      <td>Não estou empregado, mas focando apenas nos es...</td>\n",
              "      <td>Parda</td>\n",
              "      <td>Graduação Incompleta (ou cursando)</td>\n",
              "      <td>Não</td>\n",
              "      <td>Sim</td>\n",
              "      <td>Entre R$ 1.303 e R$ 2.605</td>\n",
              "      <td>Ter formação em uma das Trilhas</td>\n",
              "      <td>Pública</td>\n",
              "      <td>21-25</td>\n",
              "      <td>Back-end</td>\n",
              "      <td>True</td>\n",
              "      <td>True</td>\n",
              "    </tr>\n",
              "    <tr>\n",
              "      <th>4</th>\n",
              "      <td>2023/12/15 14:35:51</td>\n",
              "      <td>23</td>\n",
              "      <td>São Luís</td>\n",
              "      <td>Design e Experiência</td>\n",
              "      <td>Feminino</td>\n",
              "      <td>A busca de emprego</td>\n",
              "      <td>Parda</td>\n",
              "      <td>Graduação Incompleta (ou cursando)</td>\n",
              "      <td>Não</td>\n",
              "      <td>Sim</td>\n",
              "      <td>Até  R$ 1.302</td>\n",
              "      <td>Conseguir um emprego</td>\n",
              "      <td>Pública</td>\n",
              "      <td>21-25</td>\n",
              "      <td>Design e Experiência</td>\n",
              "      <td>True</td>\n",
              "      <td>True</td>\n",
              "    </tr>\n",
              "  </tbody>\n",
              "</table>\n",
              "</div>\n",
              "    <div class=\"colab-df-buttons\">\n",
              "\n",
              "  <div class=\"colab-df-container\">\n",
              "    <button class=\"colab-df-convert\" onclick=\"convertToInteractive('df-2e6df714-f04d-43e5-a94e-7985a9ed3617')\"\n",
              "            title=\"Convert this dataframe to an interactive table.\"\n",
              "            style=\"display:none;\">\n",
              "\n",
              "  <svg xmlns=\"http://www.w3.org/2000/svg\" height=\"24px\" viewBox=\"0 -960 960 960\">\n",
              "    <path d=\"M120-120v-720h720v720H120Zm60-500h600v-160H180v160Zm220 220h160v-160H400v160Zm0 220h160v-160H400v160ZM180-400h160v-160H180v160Zm440 0h160v-160H620v160ZM180-180h160v-160H180v160Zm440 0h160v-160H620v160Z\"/>\n",
              "  </svg>\n",
              "    </button>\n",
              "\n",
              "  <style>\n",
              "    .colab-df-container {\n",
              "      display:flex;\n",
              "      gap: 12px;\n",
              "    }\n",
              "\n",
              "    .colab-df-convert {\n",
              "      background-color: #E8F0FE;\n",
              "      border: none;\n",
              "      border-radius: 50%;\n",
              "      cursor: pointer;\n",
              "      display: none;\n",
              "      fill: #1967D2;\n",
              "      height: 32px;\n",
              "      padding: 0 0 0 0;\n",
              "      width: 32px;\n",
              "    }\n",
              "\n",
              "    .colab-df-convert:hover {\n",
              "      background-color: #E2EBFA;\n",
              "      box-shadow: 0px 1px 2px rgba(60, 64, 67, 0.3), 0px 1px 3px 1px rgba(60, 64, 67, 0.15);\n",
              "      fill: #174EA6;\n",
              "    }\n",
              "\n",
              "    .colab-df-buttons div {\n",
              "      margin-bottom: 4px;\n",
              "    }\n",
              "\n",
              "    [theme=dark] .colab-df-convert {\n",
              "      background-color: #3B4455;\n",
              "      fill: #D2E3FC;\n",
              "    }\n",
              "\n",
              "    [theme=dark] .colab-df-convert:hover {\n",
              "      background-color: #434B5C;\n",
              "      box-shadow: 0px 1px 3px 1px rgba(0, 0, 0, 0.15);\n",
              "      filter: drop-shadow(0px 1px 2px rgba(0, 0, 0, 0.3));\n",
              "      fill: #FFFFFF;\n",
              "    }\n",
              "  </style>\n",
              "\n",
              "    <script>\n",
              "      const buttonEl =\n",
              "        document.querySelector('#df-2e6df714-f04d-43e5-a94e-7985a9ed3617 button.colab-df-convert');\n",
              "      buttonEl.style.display =\n",
              "        google.colab.kernel.accessAllowed ? 'block' : 'none';\n",
              "\n",
              "      async function convertToInteractive(key) {\n",
              "        const element = document.querySelector('#df-2e6df714-f04d-43e5-a94e-7985a9ed3617');\n",
              "        const dataTable =\n",
              "          await google.colab.kernel.invokeFunction('convertToInteractive',\n",
              "                                                    [key], {});\n",
              "        if (!dataTable) return;\n",
              "\n",
              "        const docLinkHtml = 'Like what you see? Visit the ' +\n",
              "          '<a target=\"_blank\" href=https://colab.research.google.com/notebooks/data_table.ipynb>data table notebook</a>'\n",
              "          + ' to learn more about interactive tables.';\n",
              "        element.innerHTML = '';\n",
              "        dataTable['output_type'] = 'display_data';\n",
              "        await google.colab.output.renderOutput(dataTable, element);\n",
              "        const docLink = document.createElement('div');\n",
              "        docLink.innerHTML = docLinkHtml;\n",
              "        element.appendChild(docLink);\n",
              "      }\n",
              "    </script>\n",
              "  </div>\n",
              "\n",
              "\n",
              "<div id=\"df-6494010a-22ff-439a-8ccb-8594701ac2d9\">\n",
              "  <button class=\"colab-df-quickchart\" onclick=\"quickchart('df-6494010a-22ff-439a-8ccb-8594701ac2d9')\"\n",
              "            title=\"Suggest charts\"\n",
              "            style=\"display:none;\">\n",
              "\n",
              "<svg xmlns=\"http://www.w3.org/2000/svg\" height=\"24px\"viewBox=\"0 0 24 24\"\n",
              "     width=\"24px\">\n",
              "    <g>\n",
              "        <path d=\"M19 3H5c-1.1 0-2 .9-2 2v14c0 1.1.9 2 2 2h14c1.1 0 2-.9 2-2V5c0-1.1-.9-2-2-2zM9 17H7v-7h2v7zm4 0h-2V7h2v10zm4 0h-2v-4h2v4z\"/>\n",
              "    </g>\n",
              "</svg>\n",
              "  </button>\n",
              "\n",
              "<style>\n",
              "  .colab-df-quickchart {\n",
              "      --bg-color: #E8F0FE;\n",
              "      --fill-color: #1967D2;\n",
              "      --hover-bg-color: #E2EBFA;\n",
              "      --hover-fill-color: #174EA6;\n",
              "      --disabled-fill-color: #AAA;\n",
              "      --disabled-bg-color: #DDD;\n",
              "  }\n",
              "\n",
              "  [theme=dark] .colab-df-quickchart {\n",
              "      --bg-color: #3B4455;\n",
              "      --fill-color: #D2E3FC;\n",
              "      --hover-bg-color: #434B5C;\n",
              "      --hover-fill-color: #FFFFFF;\n",
              "      --disabled-bg-color: #3B4455;\n",
              "      --disabled-fill-color: #666;\n",
              "  }\n",
              "\n",
              "  .colab-df-quickchart {\n",
              "    background-color: var(--bg-color);\n",
              "    border: none;\n",
              "    border-radius: 50%;\n",
              "    cursor: pointer;\n",
              "    display: none;\n",
              "    fill: var(--fill-color);\n",
              "    height: 32px;\n",
              "    padding: 0;\n",
              "    width: 32px;\n",
              "  }\n",
              "\n",
              "  .colab-df-quickchart:hover {\n",
              "    background-color: var(--hover-bg-color);\n",
              "    box-shadow: 0 1px 2px rgba(60, 64, 67, 0.3), 0 1px 3px 1px rgba(60, 64, 67, 0.15);\n",
              "    fill: var(--button-hover-fill-color);\n",
              "  }\n",
              "\n",
              "  .colab-df-quickchart-complete:disabled,\n",
              "  .colab-df-quickchart-complete:disabled:hover {\n",
              "    background-color: var(--disabled-bg-color);\n",
              "    fill: var(--disabled-fill-color);\n",
              "    box-shadow: none;\n",
              "  }\n",
              "\n",
              "  .colab-df-spinner {\n",
              "    border: 2px solid var(--fill-color);\n",
              "    border-color: transparent;\n",
              "    border-bottom-color: var(--fill-color);\n",
              "    animation:\n",
              "      spin 1s steps(1) infinite;\n",
              "  }\n",
              "\n",
              "  @keyframes spin {\n",
              "    0% {\n",
              "      border-color: transparent;\n",
              "      border-bottom-color: var(--fill-color);\n",
              "      border-left-color: var(--fill-color);\n",
              "    }\n",
              "    20% {\n",
              "      border-color: transparent;\n",
              "      border-left-color: var(--fill-color);\n",
              "      border-top-color: var(--fill-color);\n",
              "    }\n",
              "    30% {\n",
              "      border-color: transparent;\n",
              "      border-left-color: var(--fill-color);\n",
              "      border-top-color: var(--fill-color);\n",
              "      border-right-color: var(--fill-color);\n",
              "    }\n",
              "    40% {\n",
              "      border-color: transparent;\n",
              "      border-right-color: var(--fill-color);\n",
              "      border-top-color: var(--fill-color);\n",
              "    }\n",
              "    60% {\n",
              "      border-color: transparent;\n",
              "      border-right-color: var(--fill-color);\n",
              "    }\n",
              "    80% {\n",
              "      border-color: transparent;\n",
              "      border-right-color: var(--fill-color);\n",
              "      border-bottom-color: var(--fill-color);\n",
              "    }\n",
              "    90% {\n",
              "      border-color: transparent;\n",
              "      border-bottom-color: var(--fill-color);\n",
              "    }\n",
              "  }\n",
              "</style>\n",
              "\n",
              "  <script>\n",
              "    async function quickchart(key) {\n",
              "      const quickchartButtonEl =\n",
              "        document.querySelector('#' + key + ' button');\n",
              "      quickchartButtonEl.disabled = true;  // To prevent multiple clicks.\n",
              "      quickchartButtonEl.classList.add('colab-df-spinner');\n",
              "      try {\n",
              "        const charts = await google.colab.kernel.invokeFunction(\n",
              "            'suggestCharts', [key], {});\n",
              "      } catch (error) {\n",
              "        console.error('Error during call to suggestCharts:', error);\n",
              "      }\n",
              "      quickchartButtonEl.classList.remove('colab-df-spinner');\n",
              "      quickchartButtonEl.classList.add('colab-df-quickchart-complete');\n",
              "    }\n",
              "    (() => {\n",
              "      let quickchartButtonEl =\n",
              "        document.querySelector('#df-6494010a-22ff-439a-8ccb-8594701ac2d9 button');\n",
              "      quickchartButtonEl.style.display =\n",
              "        google.colab.kernel.accessAllowed ? 'block' : 'none';\n",
              "    })();\n",
              "  </script>\n",
              "</div>\n",
              "\n",
              "    </div>\n",
              "  </div>\n"
            ],
            "application/vnd.google.colaboratory.intrinsic+json": {
              "type": "dataframe",
              "variable_name": "dados",
              "summary": "{\n  \"name\": \"dados\",\n  \"rows\": 309,\n  \"fields\": [\n    {\n      \"column\": \"carimbo_de_data_hora\",\n      \"properties\": {\n        \"dtype\": \"object\",\n        \"num_unique_values\": 309,\n        \"samples\": [\n          \"2023/12/17 22:42:38\",\n          \"2023/12/15 15:17:01\",\n          \"2023/12/15 20:19:10\"\n        ],\n        \"semantic_type\": \"\",\n        \"description\": \"\"\n      }\n    },\n    {\n      \"column\": \"idade\",\n      \"properties\": {\n        \"dtype\": \"number\",\n        \"std\": 6,\n        \"min\": 15,\n        \"max\": 49,\n        \"num_unique_values\": 31,\n        \"samples\": [\n          31,\n          34,\n          41\n        ],\n        \"semantic_type\": \"\",\n        \"description\": \"\"\n      }\n    },\n    {\n      \"column\": \"municipio\",\n      \"properties\": {\n        \"dtype\": \"category\",\n        \"num_unique_values\": 64,\n        \"samples\": [\n          \"Colinas\",\n          \"S\\u00e3o Domingos do Maranh\\u00e3o\",\n          \"S\\u00e3o Lu\\u00eds\"\n        ],\n        \"semantic_type\": \"\",\n        \"description\": \"\"\n      }\n    },\n    {\n      \"column\": \"trilha\",\n      \"properties\": {\n        \"dtype\": \"category\",\n        \"num_unique_values\": 5,\n        \"samples\": [\n          \"Programa\\u00e7\\u00e3o (Back-end)\",\n          \"Ci\\u00eancia de Dados\",\n          \"Design e Experi\\u00eancia\"\n        ],\n        \"semantic_type\": \"\",\n        \"description\": \"\"\n      }\n    },\n    {\n      \"column\": \"genero\",\n      \"properties\": {\n        \"dtype\": \"category\",\n        \"num_unique_values\": 3,\n        \"samples\": [\n          \"Feminino\",\n          \"Masculino\",\n          \"N\\u00e3o informado\"\n        ],\n        \"semantic_type\": \"\",\n        \"description\": \"\"\n      }\n    },\n    {\n      \"column\": \"ocupacao_atual_emprego\",\n      \"properties\": {\n        \"dtype\": \"category\",\n        \"num_unique_values\": 7,\n        \"samples\": [\n          \"Nunca Trabalhei\",\n          \"Desempregado\",\n          \"Aut\\u00f4nomo\"\n        ],\n        \"semantic_type\": \"\",\n        \"description\": \"\"\n      }\n    },\n    {\n      \"column\": \"cor_ou_raca\",\n      \"properties\": {\n        \"dtype\": \"category\",\n        \"num_unique_values\": 4,\n        \"samples\": [\n          \"Preta\",\n          \"Povos origin\\u00e1rios\",\n          \"Parda\"\n        ],\n        \"semantic_type\": \"\",\n        \"description\": \"\"\n      }\n    },\n    {\n      \"column\": \"grau_de_escolaridade\",\n      \"properties\": {\n        \"dtype\": \"category\",\n        \"num_unique_values\": 6,\n        \"samples\": [\n          \"Gradua\\u00e7\\u00e3o Incompleta (ou cursando)\",\n          \"Ens. M\\u00e9dio Completo\",\n          \"P\\u00f3s-Gradua\\u00e7\\u00e3o Incompleta (ou cursando)\"\n        ],\n        \"semantic_type\": \"\",\n        \"description\": \"\"\n      }\n    },\n    {\n      \"column\": \"participou_do_trilhas_anterior\",\n      \"properties\": {\n        \"dtype\": \"category\",\n        \"num_unique_values\": 2,\n        \"samples\": [\n          \"Sim\",\n          \"N\\u00e3o\"\n        ],\n        \"semantic_type\": \"\",\n        \"description\": \"\"\n      }\n    },\n    {\n      \"column\": \"acesso_a_net_e_ao_pc\",\n      \"properties\": {\n        \"dtype\": \"category\",\n        \"num_unique_values\": 2,\n        \"samples\": [\n          \"N\\u00e3o\",\n          \"Sim\"\n        ],\n        \"semantic_type\": \"\",\n        \"description\": \"\"\n      }\n    },\n    {\n      \"column\": \"faixa_de_renda_familiar\",\n      \"properties\": {\n        \"dtype\": \"category\",\n        \"num_unique_values\": 6,\n        \"samples\": [\n          \"At\\u00e9  R$ 1.302\",\n          \"Entre R$ 1.303 e R$ 2.605\"\n        ],\n        \"semantic_type\": \"\",\n        \"description\": \"\"\n      }\n    },\n    {\n      \"column\": \"motivo_da_participacao\",\n      \"properties\": {\n        \"dtype\": \"category\",\n        \"num_unique_values\": 4,\n        \"samples\": [\n          \"Conseguir um emprego\",\n          \"Receber ajuda financeira\"\n        ],\n        \"semantic_type\": \"\",\n        \"description\": \"\"\n      }\n    },\n    {\n      \"column\": \"escola_de_origem\",\n      \"properties\": {\n        \"dtype\": \"category\",\n        \"num_unique_values\": 3,\n        \"samples\": [\n          \"P\\u00fablica\",\n          \"Particular sem Fins Lucrativos\"\n        ],\n        \"semantic_type\": \"\",\n        \"description\": \"\"\n      }\n    },\n    {\n      \"column\": \"faixa_etaria\",\n      \"properties\": {\n        \"dtype\": \"category\",\n        \"num_unique_values\": 4,\n        \"samples\": [\n          \"26-30\",\n          \"18-20\"\n        ],\n        \"semantic_type\": \"\",\n        \"description\": \"\"\n      }\n    },\n    {\n      \"column\": \"trilha_simplificada\",\n      \"properties\": {\n        \"dtype\": \"category\",\n        \"num_unique_values\": 5,\n        \"samples\": [\n          \"Back-end\",\n          \"Ci\\u00eancia de Dados\"\n        ],\n        \"semantic_type\": \"\",\n        \"description\": \"\"\n      }\n    },\n    {\n      \"column\": \"escola_publica\",\n      \"properties\": {\n        \"dtype\": \"boolean\",\n        \"num_unique_values\": 2,\n        \"samples\": [\n          false,\n          true\n        ],\n        \"semantic_type\": \"\",\n        \"description\": \"\"\n      }\n    },\n    {\n      \"column\": \"tem_acesso\",\n      \"properties\": {\n        \"dtype\": \"boolean\",\n        \"num_unique_values\": 2,\n        \"samples\": [\n          false,\n          true\n        ],\n        \"semantic_type\": \"\",\n        \"description\": \"\"\n      }\n    }\n  ]\n}"
            }
          },
          "metadata": {},
          "execution_count": 58
        }
      ]
    },
    {
      "cell_type": "code",
      "source": [
        "dados.trilha_simplificada.unique()"
      ],
      "metadata": {
        "colab": {
          "base_uri": "https://localhost:8080/"
        },
        "id": "-cDRcTOjKDTa",
        "outputId": "6a1d6f61-4840-4c8c-e0ac-b26d85d1861b"
      },
      "execution_count": 59,
      "outputs": [
        {
          "output_type": "execute_result",
          "data": {
            "text/plain": [
              "array(['Front-end', 'Back-end', 'Design e Experiência', 'Jogos',\n",
              "       'Ciência de Dados'], dtype=object)"
            ]
          },
          "metadata": {},
          "execution_count": 59
        }
      ]
    },
    {
      "cell_type": "markdown",
      "source": [
        "3. Load – Armazenar em formato adequado"
      ],
      "metadata": {
        "id": "7DfQS6qYVTZZ"
      }
    },
    {
      "cell_type": "code",
      "source": [
        "!pip install --upgrade google-cloud-bigquery"
      ],
      "metadata": {
        "colab": {
          "base_uri": "https://localhost:8080/"
        },
        "id": "pro2vI-ITnDW",
        "outputId": "b9b782ff-8ffc-4357-df07-382880a79355"
      },
      "execution_count": 60,
      "outputs": [
        {
          "output_type": "stream",
          "name": "stdout",
          "text": [
            "Requirement already satisfied: google-cloud-bigquery in /usr/local/lib/python3.11/dist-packages (3.31.0)\n",
            "Requirement already satisfied: google-api-core<3.0.0,>=2.11.1 in /usr/local/lib/python3.11/dist-packages (from google-api-core[grpc]<3.0.0,>=2.11.1->google-cloud-bigquery) (2.24.2)\n",
            "Requirement already satisfied: google-auth<3.0.0,>=2.14.1 in /usr/local/lib/python3.11/dist-packages (from google-cloud-bigquery) (2.38.0)\n",
            "Requirement already satisfied: google-cloud-core<3.0.0,>=2.4.1 in /usr/local/lib/python3.11/dist-packages (from google-cloud-bigquery) (2.4.3)\n",
            "Requirement already satisfied: google-resumable-media<3.0.0,>=2.0.0 in /usr/local/lib/python3.11/dist-packages (from google-cloud-bigquery) (2.7.2)\n",
            "Requirement already satisfied: packaging>=24.2.0 in /usr/local/lib/python3.11/dist-packages (from google-cloud-bigquery) (24.2)\n",
            "Requirement already satisfied: python-dateutil<3.0.0,>=2.8.2 in /usr/local/lib/python3.11/dist-packages (from google-cloud-bigquery) (2.8.2)\n",
            "Requirement already satisfied: requests<3.0.0,>=2.21.0 in /usr/local/lib/python3.11/dist-packages (from google-cloud-bigquery) (2.32.3)\n",
            "Requirement already satisfied: googleapis-common-protos<2.0.0,>=1.56.2 in /usr/local/lib/python3.11/dist-packages (from google-api-core<3.0.0,>=2.11.1->google-api-core[grpc]<3.0.0,>=2.11.1->google-cloud-bigquery) (1.69.2)\n",
            "Requirement already satisfied: protobuf!=3.20.0,!=3.20.1,!=4.21.0,!=4.21.1,!=4.21.2,!=4.21.3,!=4.21.4,!=4.21.5,<7.0.0,>=3.19.5 in /usr/local/lib/python3.11/dist-packages (from google-api-core<3.0.0,>=2.11.1->google-api-core[grpc]<3.0.0,>=2.11.1->google-cloud-bigquery) (5.29.4)\n",
            "Requirement already satisfied: proto-plus<2.0.0,>=1.22.3 in /usr/local/lib/python3.11/dist-packages (from google-api-core<3.0.0,>=2.11.1->google-api-core[grpc]<3.0.0,>=2.11.1->google-cloud-bigquery) (1.26.1)\n",
            "Requirement already satisfied: grpcio<2.0dev,>=1.33.2 in /usr/local/lib/python3.11/dist-packages (from google-api-core[grpc]<3.0.0,>=2.11.1->google-cloud-bigquery) (1.71.0)\n",
            "Requirement already satisfied: grpcio-status<2.0.dev0,>=1.33.2 in /usr/local/lib/python3.11/dist-packages (from google-api-core[grpc]<3.0.0,>=2.11.1->google-cloud-bigquery) (1.71.0)\n",
            "Requirement already satisfied: cachetools<6.0,>=2.0.0 in /usr/local/lib/python3.11/dist-packages (from google-auth<3.0.0,>=2.14.1->google-cloud-bigquery) (5.5.2)\n",
            "Requirement already satisfied: pyasn1-modules>=0.2.1 in /usr/local/lib/python3.11/dist-packages (from google-auth<3.0.0,>=2.14.1->google-cloud-bigquery) (0.4.2)\n",
            "Requirement already satisfied: rsa<5,>=3.1.4 in /usr/local/lib/python3.11/dist-packages (from google-auth<3.0.0,>=2.14.1->google-cloud-bigquery) (4.9)\n",
            "Requirement already satisfied: google-crc32c<2.0dev,>=1.0 in /usr/local/lib/python3.11/dist-packages (from google-resumable-media<3.0.0,>=2.0.0->google-cloud-bigquery) (1.7.1)\n",
            "Requirement already satisfied: six>=1.5 in /usr/local/lib/python3.11/dist-packages (from python-dateutil<3.0.0,>=2.8.2->google-cloud-bigquery) (1.17.0)\n",
            "Requirement already satisfied: charset-normalizer<4,>=2 in /usr/local/lib/python3.11/dist-packages (from requests<3.0.0,>=2.21.0->google-cloud-bigquery) (3.4.1)\n",
            "Requirement already satisfied: idna<4,>=2.5 in /usr/local/lib/python3.11/dist-packages (from requests<3.0.0,>=2.21.0->google-cloud-bigquery) (3.10)\n",
            "Requirement already satisfied: urllib3<3,>=1.21.1 in /usr/local/lib/python3.11/dist-packages (from requests<3.0.0,>=2.21.0->google-cloud-bigquery) (2.3.0)\n",
            "Requirement already satisfied: certifi>=2017.4.17 in /usr/local/lib/python3.11/dist-packages (from requests<3.0.0,>=2.21.0->google-cloud-bigquery) (2025.1.31)\n",
            "Requirement already satisfied: pyasn1<0.7.0,>=0.6.1 in /usr/local/lib/python3.11/dist-packages (from pyasn1-modules>=0.2.1->google-auth<3.0.0,>=2.14.1->google-cloud-bigquery) (0.6.1)\n"
          ]
        }
      ]
    },
    {
      "cell_type": "code",
      "source": [
        "from google.cloud import bigquery\n",
        "from google.oauth2 import service_account\n",
        "\n",
        "# Caminho do JSON de credenciais\n",
        "caminho_credenciais = '/content/minha-chave.json'\n",
        "\n",
        "# Criar o client autenticado\n",
        "credenciais = service_account.Credentials.from_service_account_file(caminho_credenciais)\n",
        "client = bigquery.Client(credentials=credenciais, project=credenciais.project_id)\n",
        "\n",
        "# Defina o ID da tabela (use seu projeto e dataset)\n",
        "tabela_id = 'meu-id-do-projeto.meu-dataset.minha-tabela'\n",
        "\n",
        "from google.cloud import bigquery\n",
        "\n",
        "# Configurar o job para criar a tabela se não existir\n",
        "job_config = bigquery.LoadJobConfig(write_disposition=\"WRITE_TRUNCATE\")\n",
        "\n",
        "job = client.load_table_from_dataframe(dados, tabela_id, job_config=job_config)\n",
        "job.result()\n",
        "\n",
        "print(f'✅ Dados enviados para: {tabela_id}')"
      ],
      "metadata": {
        "collapsed": true,
        "id": "I754UYl_VX3z"
      },
      "execution_count": null,
      "outputs": []
    },
    {
      "cell_type": "code",
      "source": [],
      "metadata": {
        "id": "LTUDK9ERVnQl"
      },
      "execution_count": null,
      "outputs": []
    }
  ]
}